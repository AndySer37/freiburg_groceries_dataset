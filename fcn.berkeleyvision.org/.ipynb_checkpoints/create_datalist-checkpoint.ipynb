{
 "cells": [
  {
   "cell_type": "code",
   "execution_count": 5,
   "metadata": {},
   "outputs": [],
   "source": [
    "output_path = \"../splits/data_list/\"\n",
    "label_path = \"../lab_list.txt\"\n",
    "image_path = \"../images/\""
   ]
  },
  {
   "cell_type": "code",
   "execution_count": 6,
   "metadata": {},
   "outputs": [],
   "source": [
    "import os\n",
    "if os.path.isdir(output_path) is False:\n",
    "    os.makedirs(output_path)"
   ]
  },
  {
   "cell_type": "code",
   "execution_count": 28,
   "metadata": {},
   "outputs": [
    {
     "name": "stdout",
     "output_type": "stream",
     "text": [
      "train.txt made\n",
      "test.txt made\n"
     ]
    }
   ],
   "source": [
    "import random\n",
    "import numpy as np\n",
    "\n",
    "label = np.loadtxt(label_path,str,\",\")\n",
    "# if you don't have path.txt ,command \"sudo find ./ -name *.jpg >> path.txt\" in your image directory\n",
    "fpath = np.loadtxt(image_path + \"path.txt\", str, \",\")\n",
    "ftest = open(output_path + \"test.txt\", \"w\")\n",
    "ftrain = open(output_path + \"train.txt\", \"w\")\n",
    "\n",
    "num_file = 0\n",
    "\n",
    "while num_file < len(fpath):\n",
    "\n",
    "    chose = random.randint(0,len(fpath)-1)\n",
    "\n",
    "    #print chose\n",
    "    if len(fpath[chose]) == 1: # have picked\n",
    "        #print fpath[chose]\n",
    "        continue\n",
    "\n",
    "    info = fpath[chose] + \" \"\n",
    "\n",
    "    cluster = fpath[chose].split(\"/\")[-2]     #the label of the image\n",
    "\n",
    "    #change label name to class number\n",
    "    for i in range(len(label)):\n",
    "        #name = label[i].upper()              #for street_en_pure\n",
    "        #name = str(i)+\"_\"+label[i].upper()   #for duckietown-four-score\n",
    "        name = label[i]                       #for lab_out_validation \n",
    "        #name = str(i)                        #for vgg_dictnet_four_score_selected\n",
    "        if name == cluster:\n",
    "            info += str(i) + \"\\n\"\n",
    "            break             \n",
    "\n",
    "    if num_file < int(len(fpath)*0.9):\n",
    "        ftrain.write(info)        \n",
    "    else:\n",
    "        ftest.write(info)\n",
    "\n",
    "    fpath[chose] = 0\n",
    "    num_file += 1\n",
    "\n",
    "ftrain.close()\n",
    "print (\"train.txt made\")\n",
    "ftest.close()\n",
    "print (\"test.txt made\")"
   ]
  },
  {
   "cell_type": "code",
   "execution_count": 29,
   "metadata": {},
   "outputs": [
    {
     "name": "stdout",
     "output_type": "stream",
     "text": [
      "test_list.txt made\n"
     ]
    }
   ],
   "source": [
    "import random\n",
    "import numpy as np\n",
    "\n",
    "\n",
    "label = np.loadtxt(label_path,str,\",\")\n",
    "# if you don't have path.txt ,command \"sudo find ./ -name *.jpg >> path.txt\" in your image directory\n",
    "fpath = np.loadtxt(image_path + \"path.txt\", str, \",\")\n",
    "ftest = open(output_path + \"test_list.txt\", \"w\")\n",
    "\n",
    "num_file = 0\n",
    "\n",
    "while num_file < len(fpath):\n",
    "\n",
    "    chose = random.randint(0,len(fpath)-1)\n",
    "\n",
    "    #print chose\n",
    "    if len(fpath[chose]) == 1: # have picked\n",
    "        continue\n",
    "\n",
    "    info = fpath[chose] + \" \"\n",
    "\n",
    "    cluster = fpath[chose].split(\"/\")[-2]\n",
    "    for i in range(len(label)):\n",
    "        #name = str(i)+\"_\"+label[i].upper()    #for duckietown-four-score\n",
    "        #name = label[i]                      #for lab_out_validation \n",
    "        #name = str(i)                        #for vgg_dictnet_four_score_selected\n",
    "        name = label[i].upper()\n",
    "        if name == cluster:\n",
    "            info += str(i) + \"\\n\"\n",
    "            break             \n",
    "\n",
    "    ftest.write(info)\n",
    "\n",
    "    fpath[chose] = 0\n",
    "    num_file += 1\n",
    "\n",
    "ftest.close()\n",
    "print (\"test_list.txt made\")"
   ]
  },
  {
   "cell_type": "code",
   "execution_count": null,
   "metadata": {},
   "outputs": [],
   "source": []
  }
 ],
 "metadata": {
  "kernelspec": {
   "display_name": "Python 2",
   "language": "python",
   "name": "python2"
  },
  "language_info": {
   "codemirror_mode": {
    "name": "ipython",
    "version": 2
   },
   "file_extension": ".py",
   "mimetype": "text/x-python",
   "name": "python",
   "nbconvert_exporter": "python",
   "pygments_lexer": "ipython2",
   "version": "2.7.12"
  }
 },
 "nbformat": 4,
 "nbformat_minor": 2
}
