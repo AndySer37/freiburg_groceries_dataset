{
 "cells": [
  {
   "cell_type": "code",
   "execution_count": 1,
   "metadata": {},
   "outputs": [],
   "source": [
    "import numpy as np\n",
    "from PIL import Image\n",
    "\n",
    "import random"
   ]
  },
  {
   "cell_type": "code",
   "execution_count": 5,
   "metadata": {},
   "outputs": [
    {
     "name": "stdout",
     "output_type": "stream",
     "text": [
      "1458\n"
     ]
    }
   ],
   "source": [
    "split = 'train'\n",
    "voc_dir = '/home/arg_ws3/david_trainings/splits/data_list/'\n",
    "split_f  = '{}{}.txt'.format(voc_dir,split)\n",
    "indices = open(split_f, 'r').read().splitlines()\n",
    "print len(indices)-1"
   ]
  },
  {
   "cell_type": "code",
   "execution_count": 8,
   "metadata": {},
   "outputs": [
    {
     "name": "stdout",
     "output_type": "stream",
     "text": [
      "['./buoy/pcl/Image232.jpg', '0']\n",
      "./buoy/pcl/Image232.jpg\n",
      "0\n"
     ]
    }
   ],
   "source": [
    "tmp = indices[2].split()\n",
    "print tmp\n",
    "print tmp[0]\n",
    "print tmp[1]"
   ]
  },
  {
   "cell_type": "code",
   "execution_count": 20,
   "metadata": {},
   "outputs": [
    {
     "name": "stdout",
     "output_type": "stream",
     "text": [
      "../images/./buoy/pcl/Image232.jpg\n",
      "../images/./buoy/roi/Image232.jpg\n"
     ]
    }
   ],
   "source": [
    "img_path = tmp[0].split('pcl')\n",
    "print \"../images/\"+tmp[0]\n",
    "print \"../images/\"+img_path[0]+\"roi\"+img_path[1]"
   ]
  },
  {
   "cell_type": "code",
   "execution_count": null,
   "metadata": {},
   "outputs": [],
   "source": []
  }
 ],
 "metadata": {
  "kernelspec": {
   "display_name": "Python 2",
   "language": "python",
   "name": "python2"
  },
  "language_info": {
   "codemirror_mode": {
    "name": "ipython",
    "version": 2
   },
   "file_extension": ".py",
   "mimetype": "text/x-python",
   "name": "python",
   "nbconvert_exporter": "python",
   "pygments_lexer": "ipython2",
   "version": "2.7.12"
  }
 },
 "nbformat": 4,
 "nbformat_minor": 2
}
